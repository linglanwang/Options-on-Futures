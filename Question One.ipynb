{
 "cells": [
  {
   "cell_type": "code",
   "execution_count": 7,
   "metadata": {},
   "outputs": [],
   "source": [
    "import numpy as np\n",
    "from scipy.stats import norm\n",
    "\n",
    "\n",
    "class BlackModel:\n",
    "    def d_1(self, t, F, K, sigma):\n",
    "        return (1 / (sigma * np.sqrt(t))) * (np.log(F / K) + 0.5 * (sigma ** 2) * t)\n",
    "\n",
    "    def d_2(self, t, F, K, sigma):\n",
    "        return self.d_1(t, F, K, sigma) - sigma * np.sqrt(t)\n",
    "\n",
    "    def put(self, r, t, F, K, sigma):\n",
    "        return np.exp(-1 * r * t) * (K * norm.cdf(-1 * self.d_2(t, F, K, sigma)) -\n",
    "                                     F * norm.cdf(-1 * self.d_1(t, F, K, sigma)))\n",
    "\n",
    "    def call(self, r, t, F, K, sigma):\n",
    "        return np.exp(-1 * r * t) * (F * norm.cdf(self.d_1(t, F, K, sigma)) -\n",
    "                                     K * norm.cdf(self.d_2(t, F, K, sigma)))\n",
    "\n",
    "\n",
    "def TrinomialPut(S0, K, r, sigma, T):\n",
    "    \n",
    "    N=360\n",
    "    dt = T / N  # time steps\n",
    "    u = np.exp(sigma * np.sqrt(2 * dt))\n",
    "    d = np.exp(-1 * sigma * np.sqrt(2 * dt))\n",
    "    m = 1\n",
    "\n",
    "    pu = ((np.exp(r * dt / 2) - np.exp(-1 * sigma * np.sqrt(dt / 2))) / (np.exp(sigma * np.sqrt(dt / 2)) - np.exp(-1 * sigma * np.sqrt(dt / 2)))) ** 2\n",
    "    pd = ((np.exp(sigma * np.sqrt(dt / 2)) - np.exp(r * dt / 2)) / (np.exp(sigma * np.sqrt(dt / 2)) - np.exp(-1 * sigma * np.sqrt(dt / 2)))) ** 2\n",
    "    pm = 1 - pu - pd\n",
    "\n",
    "    STs = [np.array([S0])]\n",
    "\n",
    "    for i in range(N):\n",
    "        prev_nodes = STs[-1]\n",
    "        ST = np.concatenate(\n",
    "            (prev_nodes * u * np.exp(-1 * r * dt), [prev_nodes[-1] * m * np.exp(-1 * r * dt),\n",
    "                                                    prev_nodes[-1] * d * np.exp(-1 * r * dt)]))\n",
    "        STs.append(ST)\n",
    "\n",
    "    payoffs = np.maximum(0, (K - STs[N]))\n",
    "\n",
    "    for i in reversed(range(N)):\n",
    "        payoffs = (payoffs[:-2] * pu + payoffs[1:-1] * pm + payoffs[2:] * pd) * np.exp(-1 * r * dt)\n",
    "\n",
    "    return payoffs\n",
    "\n"
   ]
  },
  {
   "cell_type": "code",
   "execution_count": 8,
   "metadata": {},
   "outputs": [
    {
     "name": "stdout",
     "output_type": "stream",
     "text": [
      "31.602344585498123\n"
     ]
    }
   ],
   "source": [
    "blackModel = BlackModel()\n",
    "print(blackModel.put(r=0.015, t=0.2639, K=2900, F=3120, sigma=0.175))\n",
    "   "
   ]
  },
  {
   "cell_type": "code",
   "execution_count": 9,
   "metadata": {},
   "outputs": [
    {
     "name": "stdout",
     "output_type": "stream",
     "text": [
      "[31.61724102]\n"
     ]
    }
   ],
   "source": [
    "print(TrinomialPut(S0=3120, K=2900, r=0.015, sigma=0.175, T=0.2639))"
   ]
  },
  {
   "cell_type": "code",
   "execution_count": null,
   "metadata": {},
   "outputs": [],
   "source": []
  }
 ],
 "metadata": {
  "kernelspec": {
   "display_name": "Python 3",
   "language": "python",
   "name": "python3"
  },
  "language_info": {
   "codemirror_mode": {
    "name": "ipython",
    "version": 3
   },
   "file_extension": ".py",
   "mimetype": "text/x-python",
   "name": "python",
   "nbconvert_exporter": "python",
   "pygments_lexer": "ipython3",
   "version": "3.7.3"
  }
 },
 "nbformat": 4,
 "nbformat_minor": 2
}
